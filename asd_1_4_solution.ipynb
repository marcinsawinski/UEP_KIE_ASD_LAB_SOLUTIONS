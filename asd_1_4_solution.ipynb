{
 "cells": [
  {
   "cell_type": "markdown",
   "metadata": {},
   "source": [
    "# Zadanie 1.4\n",
    "\n",
    "**Napisz funkcję, która wylicza silnię interacyjnie.**\n",
    "**Napisz wywołaj funkcję dla liczb z przdziału 1-20**"
   ]
  },
  {
   "cell_type": "markdown",
   "metadata": {},
   "source": [
    "**Link:** https://colab.research.google.com/github/marcinsawinski/UEP_KIE_ASD_LAB_PROG/blob/master/asd_1_4_solution.ipynb"
   ]
  },
  {
   "cell_type": "markdown",
   "metadata": {},
   "source": [
    "## Teoria\n",
    "\n",
    "Silnię definiujemy w następujący sposób:\n",
    "$n!= 1 \\cdot 2 \\cdot \\ldots \\cdot n = \\prod _{k=1}^{n}k\\qquad \\text{dla n}\\in {N}$\n"
   ]
  },
  {
   "cell_type": "markdown",
   "metadata": {},
   "source": [
    "# Rozwiązanie"
   ]
  },
  {
   "cell_type": "code",
   "execution_count": 2,
   "metadata": {},
   "outputs": [
    {
     "data": {
      "text/plain": [
       "120"
      ]
     },
     "execution_count": 2,
     "metadata": {},
     "output_type": "execute_result"
    }
   ],
   "source": [
    "def factorial(n):\n",
    "  k = n\n",
    "  result = k\n",
    "  while k > 2:\n",
    "    k = k - 1\n",
    "    result = result * k\n",
    "  return result\n",
    "factorial(5)"
   ]
  },
  {
   "cell_type": "code",
   "execution_count": 3,
   "metadata": {},
   "outputs": [
    {
     "data": {
      "text/plain": [
       "120"
      ]
     },
     "execution_count": 3,
     "metadata": {},
     "output_type": "execute_result"
    }
   ],
   "source": [
    "def factorialButDifferent(n):\n",
    "  result = n\n",
    "  for k in range(1, n):\n",
    "    result *= k  # to samo co result = result * k\n",
    "  return result\n",
    "factorialButDifferent(5)"
   ]
  },
  {
   "cell_type": "code",
   "execution_count": 6,
   "metadata": {},
   "outputs": [
    {
     "name": "stdout",
     "output_type": "stream",
     "text": [
      "1 : 1\n",
      "2 : 2\n",
      "3 : 6\n",
      "4 : 24\n",
      "5 : 120\n",
      "6 : 720\n",
      "7 : 5040\n",
      "8 : 40320\n",
      "9 : 362880\n",
      "10 : 3628800\n",
      "11 : 39916800\n",
      "12 : 479001600\n",
      "13 : 6227020800\n",
      "14 : 87178291200\n",
      "15 : 1307674368000\n",
      "16 : 20922789888000\n",
      "17 : 355687428096000\n",
      "18 : 6402373705728000\n",
      "19 : 121645100408832000\n",
      "20 : 2432902008176640000\n"
     ]
    }
   ],
   "source": [
    "for i in range(1,21):\n",
    "  print(f'{str(i)} : {factorial(i)}')"
   ]
  }
 ],
 "metadata": {
  "kernelspec": {
   "display_name": "Python 3.8.9 64-bit",
   "language": "python",
   "name": "python3"
  },
  "language_info": {
   "codemirror_mode": {
    "name": "ipython",
    "version": 3
   },
   "file_extension": ".py",
   "mimetype": "text/x-python",
   "name": "python",
   "nbconvert_exporter": "python",
   "pygments_lexer": "ipython3",
   "version": "3.9.6"
  },
  "orig_nbformat": 4,
  "vscode": {
   "interpreter": {
    "hash": "31f2aee4e71d21fbe5cf8b01ff0e069b9275f58929596ceb00d14d90e3e16cd6"
   }
  }
 },
 "nbformat": 4,
 "nbformat_minor": 2
}
