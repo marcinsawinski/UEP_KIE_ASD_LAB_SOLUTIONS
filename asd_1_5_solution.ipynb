{
 "cells": [
  {
   "cell_type": "markdown",
   "metadata": {},
   "source": [
    "# Zadanie 1.5\n",
    "\n",
    "**Napisz funkcję, która wykonuje mnożenie macierzy**\n",
    "\n",
    "**Wykonaj mnozenie macierzy**\n",
    "\n",
    "$$\\begin{pmatrix} 1 & 2 & 3 \\\\ 4 & 5 & 6 \\end{pmatrix} \\times  \n",
    "\\begin{pmatrix} 1 & 2 \\\\ 3 & 4 \\\\ 5 & 6 \\end{pmatrix} $$"
   ]
  },
  {
   "cell_type": "markdown",
   "metadata": {},
   "source": [
    "**Link:** https://colab.research.google.com/github/marcinsawinski/UEP_KIE_ASD_LAB_PROG/blob/master/asd_1_5_solution.ipynb"
   ]
  },
  {
   "cell_type": "markdown",
   "metadata": {},
   "source": [
    "## Teoria\n",
    "Jeeli A to  macież m × n  and B to macież n × p,\n",
    "produkt macieży C = AB jest macieżą m × p\n",
    "\n",
    "$c_{ij} = a_{i1}b_{1j} + a_{i2}b_{2j} + \\ldots + a_{in}b_{nj}  = \\sum_{k=1}^{n}a_{ik}b_{ki}\\qquad $\n",
    "\n",
    "$\\text{dla i} = 1, ..., \\text{m i j }= 1, ..., p$.\n"
   ]
  },
  {
   "cell_type": "markdown",
   "metadata": {},
   "source": [
    "# Rozwiązanie"
   ]
  },
  {
   "cell_type": "code",
   "execution_count": 33,
   "metadata": {},
   "outputs": [
    {
     "name": "stdout",
     "output_type": "stream",
     "text": [
      "Dimensions OK\n",
      "i:0,j:0 result:\n",
      "0 + 1*1 = 1\n",
      "1 + 2*3 = 7\n",
      "7 + 3*5 = 22\n",
      "i:0,j:1 result:\n",
      "0 + 1*2 = 2\n",
      "2 + 2*4 = 10\n",
      "10 + 3*6 = 28\n",
      "i:1,j:0 result:\n",
      "0 + 4*1 = 4\n",
      "4 + 5*3 = 19\n",
      "19 + 7*5 = 54\n",
      "i:1,j:1 result:\n",
      "0 + 4*2 = 8\n",
      "8 + 5*4 = 28\n",
      "28 + 7*6 = 70\n",
      "[22, 28]\n",
      "[54, 70]\n"
     ]
    }
   ],
   "source": [
    "def matmul(A,B):\n",
    "    a_m = len(A) # liczba wierszy 1 macierzy\n",
    "    a_n = len(A[0]) # liczba kolumn 1 macierzy\n",
    "    b_m = len(B) # liczba wierszy 2 macierzy\n",
    "    b_n = len(B[0])# liczba kolumn 2 macierzy\n",
    "\n",
    "    if (a_n == b_m):\n",
    "        print('Dimensions OK')\n",
    "    else:\n",
    "        print('Dimensions incorrect')\n",
    "        return [[]]\n",
    "\n",
    "    result = [[0 for col in range(b_n)] for row in range(a_m)]\n",
    "\n",
    "    for i in range(a_m):\n",
    "        for j in range(b_n):\n",
    "            print(f'i:{i},j:{j} result:')\n",
    "            for k in range(b_m):\n",
    "\n",
    "                print('{} + {}*{} = {}'.format(\n",
    "                                  result[i][j],A[i][k],B[k][j],\n",
    "                                  result[i][j] + A[i][k]*B[k][j]))\n",
    "\n",
    "                result[i][j] += A[i][k]*B[k][j]\n",
    "            \n",
    "    return result\n",
    "\n",
    "\n",
    "\n",
    "A = [[1 ,2,3], \n",
    "     [4, 5, 7]]\n",
    "B = [[1, 2], \n",
    "     [3, 4],\n",
    "     [5, 6]]\n",
    "C = matmul(A,B)\n",
    "for row in C:\n",
    "    print(row)"
   ]
  },
  {
   "cell_type": "code",
   "execution_count": 32,
   "metadata": {},
   "outputs": [
    {
     "data": {
      "text/plain": [
       "array([[22, 28],\n",
       "       [54, 70]])"
      ]
     },
     "execution_count": 32,
     "metadata": {},
     "output_type": "execute_result"
    }
   ],
   "source": [
    "import numpy as np\n",
    "np.matmul(A,B)"
   ]
  },
  {
   "cell_type": "code",
   "execution_count": 34,
   "metadata": {},
   "outputs": [
    {
     "name": "stdout",
     "output_type": "stream",
     "text": [
      "Dimensions OK\n",
      "i:0,j:0 result:\n",
      "0 + 1*1 = 1\n",
      "1 + 2*4 = 9\n",
      "9 + 3*7 = 30\n",
      "30 + 4*10 = 70\n",
      "i:0,j:1 result:\n",
      "0 + 1*2 = 2\n",
      "2 + 2*5 = 12\n",
      "12 + 3*8 = 36\n",
      "36 + 4*11 = 80\n",
      "i:0,j:2 result:\n",
      "0 + 1*3 = 3\n",
      "3 + 2*6 = 15\n",
      "15 + 3*9 = 42\n",
      "42 + 4*12 = 90\n",
      "i:1,j:0 result:\n",
      "0 + 5*1 = 5\n",
      "5 + 6*4 = 29\n",
      "29 + 7*7 = 78\n",
      "78 + 8*10 = 158\n",
      "i:1,j:1 result:\n",
      "0 + 5*2 = 10\n",
      "10 + 6*5 = 40\n",
      "40 + 7*8 = 96\n",
      "96 + 8*11 = 184\n",
      "i:1,j:2 result:\n",
      "0 + 5*3 = 15\n",
      "15 + 6*6 = 51\n",
      "51 + 7*9 = 114\n",
      "114 + 8*12 = 210\n",
      "i:2,j:0 result:\n",
      "0 + 9*1 = 9\n",
      "9 + 10*4 = 49\n",
      "49 + 11*7 = 126\n",
      "126 + 12*10 = 246\n",
      "i:2,j:1 result:\n",
      "0 + 9*2 = 18\n",
      "18 + 10*5 = 68\n",
      "68 + 11*8 = 156\n",
      "156 + 12*11 = 288\n",
      "i:2,j:2 result:\n",
      "0 + 9*3 = 27\n",
      "27 + 10*6 = 87\n",
      "87 + 11*9 = 186\n",
      "186 + 12*12 = 330\n",
      "i:3,j:0 result:\n",
      "0 + 13*1 = 13\n",
      "13 + 14*4 = 69\n",
      "69 + 15*7 = 174\n",
      "174 + 16*10 = 334\n",
      "i:3,j:1 result:\n",
      "0 + 13*2 = 26\n",
      "26 + 14*5 = 96\n",
      "96 + 15*8 = 216\n",
      "216 + 16*11 = 392\n",
      "i:3,j:2 result:\n",
      "0 + 13*3 = 39\n",
      "39 + 14*6 = 123\n",
      "123 + 15*9 = 258\n",
      "258 + 16*12 = 450\n",
      "i:4,j:0 result:\n",
      "0 + 17*1 = 17\n",
      "17 + 18*4 = 89\n",
      "89 + 19*7 = 222\n",
      "222 + 20*10 = 422\n",
      "i:4,j:1 result:\n",
      "0 + 17*2 = 34\n",
      "34 + 18*5 = 124\n",
      "124 + 19*8 = 276\n",
      "276 + 20*11 = 496\n",
      "i:4,j:2 result:\n",
      "0 + 17*3 = 51\n",
      "51 + 18*6 = 159\n",
      "159 + 19*9 = 330\n",
      "330 + 20*12 = 570\n",
      "[70, 80, 90]\n",
      "[158, 184, 210]\n",
      "[246, 288, 330]\n",
      "[334, 392, 450]\n",
      "[422, 496, 570]\n"
     ]
    }
   ],
   "source": [
    "A = [[1 ,2,3,4], \n",
    "     [5, 6,7,8],\n",
    "     [9,10,11,12],\n",
    "     [13,14,15,16],\n",
    "     [17,18,19,20]]\n",
    "     \n",
    "B = [[1, 2,3], \n",
    "     [4, 5,6],\n",
    "     [7, 8,9], \n",
    "     [10, 11,12]]\n",
    "C = matmul(A,B)\n",
    "for row in C:\n",
    "    print(row)"
   ]
  },
  {
   "cell_type": "code",
   "execution_count": 30,
   "metadata": {},
   "outputs": [
    {
     "data": {
      "text/plain": [
       "array([[ 70,  80,  90],\n",
       "       [158, 184, 210],\n",
       "       [246, 288, 330],\n",
       "       [334, 392, 450],\n",
       "       [422, 496, 570]])"
      ]
     },
     "execution_count": 30,
     "metadata": {},
     "output_type": "execute_result"
    }
   ],
   "source": [
    "np.matmul(A,B)"
   ]
  }
 ],
 "metadata": {
  "kernelspec": {
   "display_name": "Python 3.9.13 ('hml3')",
   "language": "python",
   "name": "python3"
  },
  "language_info": {
   "codemirror_mode": {
    "name": "ipython",
    "version": 3
   },
   "file_extension": ".py",
   "mimetype": "text/x-python",
   "name": "python",
   "nbconvert_exporter": "python",
   "pygments_lexer": "ipython3",
   "version": "3.9.13"
  },
  "orig_nbformat": 4,
  "vscode": {
   "interpreter": {
    "hash": "ac2598a53cd48ed973662853cbed9ce85601c819c2e7e5e54efa32ca245c1cee"
   }
  }
 },
 "nbformat": 4,
 "nbformat_minor": 2
}
