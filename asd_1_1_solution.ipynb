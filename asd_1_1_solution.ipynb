{
 "cells": [
  {
   "cell_type": "markdown",
   "metadata": {},
   "source": [
    "# Zadanie 1.1\n",
    "\n",
    "**1. Napisz funkcję, która sprawdza czy przekazany argument jest liczbę pierwszą.**\n",
    "\n",
    "**2. Wskaz liczby pierwsze w zakresie  od 1 do 1000.**\n"
   ]
  },
  {
   "cell_type": "markdown",
   "metadata": {},
   "source": [
    "**Link:** https://colab.research.google.com/github/marcinsawinski/UEP_KIE_ASD_LAB_PROG/blob/master/asd_1_1_solution.ipynb"
   ]
  },
  {
   "cell_type": "markdown",
   "metadata": {},
   "source": [
    "## Teoria - badanie czy liczba jest pierwszą\n",
    "\n",
    "Liczba pierwsza to taka liczba naturalna większa od 1, której jedynymi naturalnymi dzielnikami jest liczba 1 i ona sama. Oto kilka początkowych liczb pierwszych:\n",
    "\n",
    "2, 3, 5, 7, 11, 13, 17, 19, ...\n",
    "\n",
    "Warto zauważyć, że takich liczb jest nieskończenie wiele. Aby określić, czy dana liczba jest pierwsza należy zbadać jej dzielniki. Dla zadanej liczby n sprawdzamy kolejne liczby naturalne należące do przedziału:\n",
    "\n",
    "[2...√n]\n",
    "\n",
    "Jeśli któraś z tych liczb jest dzielnikiem, oznacza to, że nasza liczba nie jest pierwsza. Dlaczego wystarczy sprawdzić tylko liczby od 2 do pierwiastka z n ?\n",
    "Przeanalizujmy kilka przykładów i wypiszmy dzielniki dla następujących liczb: 24, 25 i 31.\n",
    "\n",
    "√24≈4,9\n",
    "D24={1, 2, 3, 4, |4,9|, 6, 8, 12, 24}\n",
    "\n",
    "√25=5\n",
    "D25={1, |5|, 25}\n",
    "\n",
    "√31≈5,6\n",
    "D24={1, |5,6|, 31}\n",
    "\n",
    "Warto zauważyć, że jeśli liczba n ma dzielniki większe od 1, to będzie ich tyle samo po lewej i prawej stronie √n.\n",
    "W przypadku liczb kwadratowych takich jak np. 25, pierwiastek z tej liczby będzie jej dzielnikiem. Wynika to z faktu, że jeśli liczba d jest dzielnikiem liczby n to zachodzi zależność:\n",
    "\n",
    "k=n/d⇒d=n/k\n",
    "\n",
    "np.\n",
    "\n",
    "6=24/4⇒4=24/6"
   ]
  },
  {
   "cell_type": "markdown",
   "metadata": {},
   "source": [
    "# Rozwiązanie"
   ]
  },
  {
   "cell_type": "code",
   "execution_count": null,
   "metadata": {},
   "outputs": [],
   "source": [
    "# definicja funkcji sprawdzającej czy arguemnt n jest liczbą pierwszą\n",
    "\n",
    "def is_prime(n):\n",
    "    if n < 2:\n",
    "        return False\n",
    "    i = 2\n",
    "    while i < math.sqrt(n):\n",
    "        if n % i == 0:\n",
    "            return False\n",
    "        i += 1\n",
    "    return True\n"
   ]
  },
  {
   "cell_type": "code",
   "execution_count": null,
   "metadata": {},
   "outputs": [],
   "source": [
    "# wywołanie funkcji dla listy wartości\n",
    "\n",
    "numbers = [x for x in range(1,21)]\n",
    "primes = [[x,is_prime(x)] for x in numbers]\n",
    "primes\n"
   ]
  },
  {
   "cell_type": "code",
   "execution_count": null,
   "metadata": {},
   "outputs": [],
   "source": [
    "# wypisanie liczb pierwszych z przedziału 1 - 1000\n",
    "\n",
    "for n in range(1000):\n",
    "    if (is_prime(n)):\n",
    "        print(n, end=' ')"
   ]
  }
 ],
 "metadata": {
  "kernelspec": {
   "display_name": "Python 3.10.6 ('uep_asd')",
   "language": "python",
   "name": "python3"
  },
  "language_info": {
   "codemirror_mode": {
    "name": "ipython",
    "version": 3
   },
   "file_extension": ".py",
   "mimetype": "text/x-python",
   "name": "python",
   "nbconvert_exporter": "python",
   "pygments_lexer": "ipython3",
   "version": "3.10.6"
  },
  "orig_nbformat": 4,
  "vscode": {
   "interpreter": {
    "hash": "1f48c4da89daea6b8e7239a1cf36b618658d1659514b1b7418d3c68f3beeda8d"
   }
  }
 },
 "nbformat": 4,
 "nbformat_minor": 2
}
