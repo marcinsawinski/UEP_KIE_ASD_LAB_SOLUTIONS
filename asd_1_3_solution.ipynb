{
 "cells": [
  {
   "cell_type": "markdown",
   "metadata": {},
   "source": [
    "# Zadanie 1.3\n",
    "\n",
    "**Napisz funkcję, która oblicza NWD wg algorytmu Euklidesa.**"
   ]
  },
  {
   "cell_type": "markdown",
   "metadata": {},
   "source": [
    "**Link:** https://colab.research.google.com/github/marcinsawinski/UEP_KIE_ASD_LAB_PROG/blob/master/asd_1_3_solution.ipynb"
   ]
  },
  {
   "cell_type": "markdown",
   "metadata": {},
   "source": [
    "## Teoria\n",
    "Według algorytmu Euklidesa, NWD($a,b$) wyliczymy w poniższy sposób: \n",
    "$a=q_{1}b+r_{1}$\n",
    "\n",
    "$b=q_{2}r_{1}+r_{2}$\n",
    "\n",
    "$r_{1}=q_{3}r_{2}+r_{3}$\n",
    "\n",
    "$r_{2}=q_{4}r_{3}+r_{4}$\n",
    "\n",
    "$\\,\\,\\,\\vdots$\n",
    "\n",
    "$r_{n-2}=q_{n}r_{n-1}+r_{n}$\n",
    "\n",
    "$r_{n-1}=q_{n+1}r_{n}+0$\n"
   ]
  },
  {
   "cell_type": "markdown",
   "metadata": {},
   "source": [
    "# Rozwiązanie"
   ]
  },
  {
   "cell_type": "code",
   "execution_count": 3,
   "metadata": {},
   "outputs": [
    {
     "name": "stdout",
     "output_type": "stream",
     "text": [
      "2034=q*432+306\n",
      "432=q*306+126\n",
      "306=q*126+54\n",
      "126=q*54+18\n",
      "54=q*18+0\n"
     ]
    },
    {
     "data": {
      "text/plain": [
       "18"
      ]
     },
     "execution_count": 3,
     "metadata": {},
     "output_type": "execute_result"
    }
   ],
   "source": [
    "def euclid(a, b):\n",
    "  r = a % b\n",
    "  print('{}=q*{}+{}'.format(a, b, r))\n",
    "  while r != 0:\n",
    "    a = b\n",
    "    b = r\n",
    "    r = a % b\n",
    "    print('{}=q*{}+{}'.format(a, b, r))\n",
    "  return b\n",
    "\n",
    "euclid(2034, 432)"
   ]
  }
 ],
 "metadata": {
  "kernelspec": {
   "display_name": "Python 3.8.9 64-bit",
   "language": "python",
   "name": "python3"
  },
  "language_info": {
   "codemirror_mode": {
    "name": "ipython",
    "version": 3
   },
   "file_extension": ".py",
   "mimetype": "text/x-python",
   "name": "python",
   "nbconvert_exporter": "python",
   "pygments_lexer": "ipython3",
   "version": "3.9.6"
  },
  "orig_nbformat": 4,
  "vscode": {
   "interpreter": {
    "hash": "31f2aee4e71d21fbe5cf8b01ff0e069b9275f58929596ceb00d14d90e3e16cd6"
   }
  }
 },
 "nbformat": 4,
 "nbformat_minor": 2
}
