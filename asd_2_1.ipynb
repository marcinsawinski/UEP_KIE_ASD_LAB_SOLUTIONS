{
 "cells": [
  {
   "cell_type": "markdown",
   "metadata": {},
   "source": [
    "# Zadanie 2.1\n",
    "## Sortowanie"
   ]
  },
  {
   "cell_type": "markdown",
   "metadata": {},
   "source": [
    "**Link:** https://colab.research.google.com/github/marcinsawinski/UEP_KIE_ASD_LAB_PROG/blob/master/asd_2_1.ipynb"
   ]
  },
  {
   "cell_type": "markdown",
   "metadata": {},
   "source": [
    "**1. Napisz funkcję implementującą sortowanie przez wstawianie.**"
   ]
  },
  {
   "cell_type": "markdown",
   "metadata": {},
   "source": [
    "## Teoria\n",
    "\n",
    "Niech $a,b,c \\in \\mathbb{R}, a \\neq 0$.\n",
    "Pierwiastki równania kwadratowego o postaci $y=ax^2+bx+c$ wyliczamy korzystając ze znanego ze szkoły średniej algorytmu.\n",
    "\n",
    "Pierwiastki rzeczywiste równania kwadratowego\n",
    "\n",
    "1. function InsertionSort($A$)\n",
    "\n",
    "1. &emsp;for j ← 2 to A.length\n",
    "\n",
    "1. &emsp;&emsp;key ← A[j]\n",
    "\n",
    "1. &emsp;&emsp;// Wstaw A[j] w posortowany ciąg A[1 . . . j − 1]\n",
    "\n",
    "1. &emsp;&emsp;i ← j − 1\n",
    "\n",
    "1. &emsp;&emsp;while i > 0 and A[i] > key\n",
    "\n",
    "1. &emsp;&emsp;&emsp;A[i + 1] ← A[i]\n",
    "\n",
    "1. &emsp;&emsp;&emsp;i ← i − 1\n",
    "\n",
    "1. &emsp;&emsp;A[i + 1] ← key"
   ]
  },
  {
   "cell_type": "markdown",
   "metadata": {},
   "source": [
    "# Rozwiązanie"
   ]
  },
  {
   "cell_type": "code",
   "execution_count": null,
   "metadata": {},
   "outputs": [],
   "source": []
  },
  {
   "cell_type": "markdown",
   "metadata": {},
   "source": [
    "**2. Dla chętnych - Napisz funkcję implementującą sortowanie przez wstawianie oraz zliczającją jej koszt.**\n",
    "\n",
    "**Zwizualizuj wyniki an wykresie dla przypadku optymiztycznego, pesymistycznego i losowego dla liczeności listy 10, 100 i 1000.**"
   ]
  },
  {
   "cell_type": "code",
   "execution_count": 1,
   "metadata": {},
   "outputs": [],
   "source": [
    "# pomoc\n",
    "## losowy wektor\n",
    "from random import randrange\n",
    "R = [randrange(10) for x in range(10)]\n",
    "# funkcja zwracającą zawszę prawdę i zliczająca liczbę wywołań\n",
    "l=0\n",
    "def add_c3():\n",
    "    l+=1\n",
    "    return True\n",
    "\n",
    "# funkcja zamieniająca listę list w ramkę (dataframe) i wyświetlającą wykres\n",
    " import pandas as pd\n",
    "def show_plot(cost):\n",
    "    df = pd.DataFrame(cost)\n",
    "    df.columns=['type','n','c1','c2','c4','c5','c6','c7','c8','cost']\n",
    "    df.sort_values(['type','n'], inplace=True)\n",
    "    colors = {'A':'green', 'D':'red', 'R':'blue'}\n",
    "    df.plot(kind=\"scatter\",x='n',y='cost', c=df.type.map(colors), figsize=(12,5), marker='o')\n",
    "    return df   \n"
   ]
  },
  {
   "cell_type": "markdown",
   "metadata": {},
   "source": [
    "# Rozwiązanie"
   ]
  },
  {
   "cell_type": "code",
   "execution_count": null,
   "metadata": {},
   "outputs": [],
   "source": []
  }
 ],
 "metadata": {
  "kernelspec": {
   "display_name": "Python 3.9.13 ('hml3')",
   "language": "python",
   "name": "python3"
  },
  "language_info": {
   "codemirror_mode": {
    "name": "ipython",
    "version": 3
   },
   "file_extension": ".py",
   "mimetype": "text/x-python",
   "name": "python",
   "nbconvert_exporter": "python",
   "pygments_lexer": "ipython3",
   "version": "3.9.13"
  },
  "orig_nbformat": 4,
  "vscode": {
   "interpreter": {
    "hash": "ac2598a53cd48ed973662853cbed9ce85601c819c2e7e5e54efa32ca245c1cee"
   }
  }
 },
 "nbformat": 4,
 "nbformat_minor": 2
}
