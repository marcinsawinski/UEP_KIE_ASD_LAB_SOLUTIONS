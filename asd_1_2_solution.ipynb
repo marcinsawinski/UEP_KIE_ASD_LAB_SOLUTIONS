{
 "cells": [
  {
   "cell_type": "markdown",
   "metadata": {},
   "source": [
    "# Zadanie 1.2\n",
    "\n",
    "**Napisz funkcję, która oblicza pierwiastki równania kwadratowego.**"
   ]
  },
  {
   "cell_type": "markdown",
   "metadata": {},
   "source": [
    "**Link:** https://colab.research.google.com/github/marcinsawinski/UEP_KIE_ASD_LAB_PROG/blob/master/asd_1_2_solution.ipynb"
   ]
  },
  {
   "cell_type": "markdown",
   "metadata": {},
   "source": [
    "## Teoria\n",
    "\n",
    "Niech $a,b,c \\in \\mathbb{R}, a \\neq 0$.\n",
    "Pierwiastki równania kwadratowego o postaci $y=ax^2+bx+c$ wyliczamy korzystając ze znanego ze szkoły średniej algorytmu.\n",
    "\n",
    "Pierwiastki rzeczywiste równania kwadratowego\n",
    "\n",
    "1. Function Quadratic-Roots($a, b, c$)\n",
    "\n",
    "1. &emsp;$\\Delta \\gets b^2 - 4ac$\n",
    "\n",
    "1. &emsp;if $\\Delta > 0$ then\n",
    "\n",
    "1. &emsp;&emsp;$x_1 \\gets \\frac{-b - \\sqrt{\\Delta}}{2a}$\n",
    "\n",
    "1. &emsp;&emsp;$x_2 \\gets \\frac{-b + \\sqrt{\\Delta}}{2a}$\n",
    "\n",
    "1. &emsp;&emsp;return $\\left \\{x_1, x_2 \\right \\}$\n"
   ]
  },
  {
   "cell_type": "markdown",
   "metadata": {},
   "source": [
    "## Rozwiązanie"
   ]
  },
  {
   "cell_type": "code",
   "execution_count": 1,
   "metadata": {},
   "outputs": [
    {
     "data": {
      "text/plain": [
       "(2, [0.0, -2.0])"
      ]
     },
     "execution_count": 1,
     "metadata": {},
     "output_type": "execute_result"
    }
   ],
   "source": [
    "from math import sqrt\n",
    "\n",
    "def qr(a,b,c):\n",
    "  delta = b**2 - 4*a*c\n",
    "\n",
    "  if delta > 0:\n",
    "      num_roots = 2\n",
    "      x1 = (((-b) + sqrt(delta))/(2*a))     \n",
    "      x2 = (((-b) - sqrt(delta))/(2*a))\n",
    "      return num_roots, [x1,x2]\n",
    "  elif delta == 0:\n",
    "      num_roots = 1\n",
    "      x = (-b) / 2*a\n",
    "      return num_roots, [x1]\n",
    "  else:\n",
    "      num_roots = 0\n",
    "      return num_roots, [None]\n",
    "qr(2,4,0)"
   ]
  }
 ],
 "metadata": {
  "kernelspec": {
   "display_name": "Python 3.8.9 64-bit",
   "language": "python",
   "name": "python3"
  },
  "language_info": {
   "codemirror_mode": {
    "name": "ipython",
    "version": 3
   },
   "file_extension": ".py",
   "mimetype": "text/x-python",
   "name": "python",
   "nbconvert_exporter": "python",
   "pygments_lexer": "ipython3",
   "version": "3.9.6"
  },
  "orig_nbformat": 4,
  "vscode": {
   "interpreter": {
    "hash": "31f2aee4e71d21fbe5cf8b01ff0e069b9275f58929596ceb00d14d90e3e16cd6"
   }
  }
 },
 "nbformat": 4,
 "nbformat_minor": 2
}
